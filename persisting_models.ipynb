{
 "cells": [
  {
   "cell_type": "code",
   "execution_count": 17,
   "metadata": {},
   "outputs": [],
   "source": [
    "# we have a online music store, \n",
    "# when the user sign up we ask for their age and gender and base on their profile, \n",
    "# you recommend carious music album that they are likely to buy\n",
    "# use machine learning to increase sales\n",
    "# build the model with some sample data base on the existing users and learn the pattern\n",
    "# # model will use prediction and make suggestion to the user\n",
    "# 1. import the data\n",
    "# 2. clean the data\n",
    "# 3. split the data into training/test sets\n",
    "# 4. create a model\n",
    "# 5. train a model\n",
    "# 6. make predictions\n",
    "# 7. evaluate and improve"
   ]
  },
  {
   "cell_type": "code",
   "execution_count": 8,
   "metadata": {},
   "outputs": [
    {
     "data": {
      "text/plain": [
       "array(['HipHop'], dtype=object)"
      ]
     },
     "execution_count": 8,
     "metadata": {},
     "output_type": "execute_result"
    }
   ],
   "source": [
    "import pandas as pd\n",
    "from sklearn.tree import DecisionTreeClassifier\n",
    "from sklearn.externals import joblib\n",
    "\n",
    "# music_data = pd.read_csv('music.csv')\n",
    "# X = music_data.drop(columns=['genre'])\n",
    "# y = music_data['genre']\n",
    "\n",
    "# model = DecisionTreeClassifier()\n",
    "# model.fit(X, y)\n",
    "\n",
    "model = joblib.load('music-recommender.joblid')\n",
    "\n",
    "predictions = model.predict([ [21, 1] ])\n",
    "predictions"
   ]
  }
 ],
 "metadata": {
  "kernelspec": {
   "display_name": "Python 3",
   "language": "python",
   "name": "python3"
  },
  "language_info": {
   "codemirror_mode": {
    "name": "ipython",
    "version": 3
   },
   "file_extension": ".py",
   "mimetype": "text/x-python",
   "name": "python",
   "nbconvert_exporter": "python",
   "pygments_lexer": "ipython3",
   "version": "3.7.4"
  }
 },
 "nbformat": 4,
 "nbformat_minor": 2
}
